{
 "cells": [
  {
   "cell_type": "code",
   "execution_count": 106,
   "metadata": {},
   "outputs": [],
   "source": [
    "def area(length, width):\n",
    "    return length * width "
   ]
  },
  {
   "cell_type": "code",
   "execution_count": 107,
   "metadata": {},
   "outputs": [],
   "source": [
    "def perimeter(length,width):\n",
    "    return (length + width) * 2"
   ]
  },
  {
   "cell_type": "code",
   "execution_count": 108,
   "metadata": {},
   "outputs": [],
   "source": [
    "rooms = {\n",
    "    'Living Room': (18, 13),\n",
    "    'Bedroom': (10, 11),\n",
    "    'Kitchen': (13, 8)\n",
    "}"
   ]
  },
  {
   "cell_type": "code",
   "execution_count": 109,
   "metadata": {},
   "outputs": [
    {
     "name": "stdout",
     "output_type": "stream",
     "text": [
      "Living Room : (18, 13)\n",
      "Bedroom : (10, 11)\n",
      "Kitchen : (13, 8)\n",
      "\n",
      "* room dimensions in feet\n"
     ]
    }
   ],
   "source": [
    "for room, dimensions in rooms.items():\n",
    "    print(f'{room} : {dimensions}')\n",
    "\n",
    "print('\\n* room dimensions in feet')"
   ]
  },
  {
   "cell_type": "code",
   "execution_count": 113,
   "metadata": {},
   "outputs": [
    {
     "name": "stdout",
     "output_type": "stream",
     "text": [
      "Living Room Area = 234 sq. ft.\n",
      "Bedroom Area = 110 sq. ft.\n",
      "Kitchen Area = 104 sq. ft.\n"
     ]
    }
   ],
   "source": [
    "for room, square_feet in rooms.items():\n",
    "    print(f'{room} Area = {area(*square_feet)} sq. ft.')"
   ]
  },
  {
   "cell_type": "code",
   "execution_count": 111,
   "metadata": {},
   "outputs": [
    {
     "name": "stdout",
     "output_type": "stream",
     "text": [
      "Living Room Perimeter (in feet) = 62 ft.\n",
      "Bedroom Perimeter (in feet) = 42 ft.\n",
      "Kitchen Perimeter (in feet) = 42 ft.\n"
     ]
    }
   ],
   "source": [
    "for room, linear_feet in rooms.items():\n",
    "    print(f'{room} Perimeter (in feet) = {perimeter(*linear_feet)} ft.')"
   ]
  },
  {
   "cell_type": "code",
   "execution_count": 112,
   "metadata": {},
   "outputs": [
    {
     "name": "stdout",
     "output_type": "stream",
     "text": [
      "Living Room Perimeter (in inches) = 504 in.\n",
      "Bedroom Perimeter (in inches) = 504 in.\n",
      "Kitchen Perimeter (in inches) = 504 in.\n"
     ]
    }
   ],
   "source": [
    "for room, linear_inches in rooms.items():\n",
    "    print(f'{room} Perimeter (in inches) = {perimeter(*linear_feet) * 12} in.')"
   ]
  },
  {
   "cell_type": "code",
   "execution_count": null,
   "metadata": {},
   "outputs": [],
   "source": []
  }
 ],
 "metadata": {
  "kernelspec": {
   "display_name": "Python 3 (ipykernel)",
   "language": "python",
   "name": "python3"
  },
  "language_info": {
   "codemirror_mode": {
    "name": "ipython",
    "version": 3
   },
   "file_extension": ".py",
   "mimetype": "text/x-python",
   "name": "python",
   "nbconvert_exporter": "python",
   "pygments_lexer": "ipython3",
   "version": "3.12.5"
  }
 },
 "nbformat": 4,
 "nbformat_minor": 4
}
